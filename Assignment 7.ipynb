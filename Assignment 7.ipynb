{
 "cells": [
  {
   "cell_type": "markdown",
   "id": "fdc3ed1e",
   "metadata": {},
   "source": [
    "Assignment 7 "
   ]
  },
  {
   "cell_type": "raw",
   "id": "bc7ef733",
   "metadata": {},
   "source": [
    "1. What is the name of the feature responsible for generating Regex objects?\n",
    "Ans - import re phoneNumRegex = re.compile(r'\\d\\d\\d-\\d\\d\\d\\d-\\d\\d\\d')"
   ]
  },
  {
   "cell_type": "raw",
   "id": "63a591c5",
   "metadata": {},
   "source": [
    "2. Why do raw strings often appear in Regex objects?\n",
    "\n",
    "Ans - Raw strings are used so that backslashes do not have to be escaped.Since regular expressions frequently use backslashes in them, it is convenient to pass raw strings to the re.compile() function instead of typing extra backslashes.\n"
   ]
  },
  {
   "cell_type": "raw",
   "id": "2f4f5a11",
   "metadata": {},
   "source": [
    "3. What is the return value of the search() method?\n",
    "\n",
    "Ans - The search() method will return None if the regex pattern is not found in the string. If the pattern is found, the search() method returns a match object."
   ]
  },
  {
   "cell_type": "raw",
   "id": "5ae0ceda",
   "metadata": {},
   "source": [
    "4. From a Match item, how do you get the actual strings that match the pattern?\n",
    "Ans - If a match object is not the null value None, we can call group() on the match object to return the match result."
   ]
  },
  {
   "cell_type": "raw",
   "id": "c599f385",
   "metadata": {},
   "source": [
    "5. In the regex which created from the r'(\\d\\d\\d)-(\\d\\d\\d-\\d\\d\\d\\d)', what does group zero cover? Group 2? Group 1?\n",
    "Ans - Group 0 is the entire match, group 1 covers the first set of parentheses, and group 2 covers the second set of parentheses.Group 0: (\\d\\d\\d)-(\\d\\d\\d-\\d\\d\\d\\d) Group 1: (\\d\\d\\d) Group 2: (\\d\\d\\d-\\d\\d\\d\\d)"
   ]
  },
  {
   "cell_type": "raw",
   "id": "26e5ea03",
   "metadata": {},
   "source": [
    "6. In standard expression syntax, parentheses and intervals have distinct meanings. How can you tell a regex that you want it to fit real parentheses and periods?\n",
    "Ans - Periods and parentheses can be escaped with a backslash: \\., \\(, and \\)."
   ]
  },
  {
   "cell_type": "raw",
   "id": "550598cc",
   "metadata": {},
   "source": [
    "7. The findall() method returns a string list or a list of string tuples. What causes it to return one of the two options?\n",
    "Ans - When called on a regex with no groups, such as \\d\\d\\d-\\d\\d\\d-\\d\\d\\d\\d, the method findall() returns a list of string matches, such as ['(\\d\\d\\d)-(\\d\\d\\d\\d-\\d\\d\\d)', '(\\d\\d\\d)-(\\d\\d\\d\\d-\\d\\d\\d)'].\n",
    "\n",
    "When called on a regex that has groups, such as (\\d\\d\\d)-(\\d\\d\\d)-(\\d\\d\\d\\d), the method findall() returns a list of tuples of strings(one string for each group), such as [('415', '555', '9999'),('212', '555','0000')]."
   ]
  },
  {
   "cell_type": "raw",
   "id": "4aa63a05",
   "metadata": {},
   "source": [
    "8. In standard expressions, what does the | character mean?\n",
    "Ans - The | character is called a pipe. You can use it anywhere you want to match one of many expressions. For example, the regular expressions r'Batman|Tina Fey' will match either 'Batman' or 'Tina Fey'."
   ]
  },
  {
   "cell_type": "raw",
   "id": "52b9f0ef",
   "metadata": {},
   "source": [
    "9. In regular expressions, what does the ? character stand for?\n",
    "Ans - The ? character can either mean \"match zero or one of the preceding group\" or be used to signify nongreedy matching."
   ]
  },
  {
   "cell_type": "raw",
   "id": "cebab0a2",
   "metadata": {},
   "source": [
    "10.In regular expressions, what is the difference between the + and * characters?\n",
    "Ans - The + matches one or more. The * matches zero or more."
   ]
  },
  {
   "cell_type": "raw",
   "id": "c20d2abf",
   "metadata": {},
   "source": [
    "11. What is the difference between {4} and {4,5} in regular expression?\n",
    "Ans - {4} is saying \"match this pattern four times.\" {4,5} means \"match this pattern four to five times."
   ]
  },
  {
   "cell_type": "raw",
   "id": "d87e9e55",
   "metadata": {},
   "source": [
    "12. What do you mean by the \\d, \\w, and \\s shorthand character classes signify in regular expressions?\n",
    "Ans - a \\d in a regex stands for a digit character - that is, any single numberal 0 to 9.\n",
    "\n",
    "\\w means any letter, numeric digit, or the underscore character.\n",
    "\n",
    "\\s means any space, tab, or newline character."
   ]
  },
  {
   "cell_type": "raw",
   "id": "252acd2d",
   "metadata": {},
   "source": [
    "13. What do means by \\D, \\W, and \\S shorthand character classes signify in regular expressions?\n",
    "Ans - \\d represents any character that is not a numeric digit from 0 to 9.\n",
    "\n",
    "\\W represents any character that is not a letter, numeric digit, or the underscore character.\n",
    "\n",
    "\\S represents any character that is not a space, tab or newline."
   ]
  },
  {
   "cell_type": "raw",
   "id": "0d740f49",
   "metadata": {},
   "source": [
    "14. What is the difference between .*? and .*?\n",
    "Ans - (.*?) matches any character (.) any number of times (*), as few times as possible to make the regex match (?). You'll get a match on any string, but you'll only capture a blank string because of the question mark.\n",
    "\n",
    "(.*)? captures a group zero or one times (?). That group consists of a run of any length (*) of any character (.). This also will match anything, but it will capture the first line, since the dot matches anything except a newline.\n"
   ]
  },
  {
   "cell_type": "raw",
   "id": "39ddd177",
   "metadata": {},
   "source": [
    "15. What is the syntax for matching both numbers and lowercase letters with a character class?\n",
    "Ans - Using character sets\n",
    "\n",
    "For example, the regular expression \"[ A-Za-z] \" specifies to match any single uppercase or lowercase letter. In the character set, a hyphen indicates a range of characters, for example [A-Z] will match any one capital letter. In a character set a ^ character negates the following characters."
   ]
  },
  {
   "cell_type": "raw",
   "id": "95916667",
   "metadata": {},
   "source": [
    "16. What is the procedure for making a normal expression in regax case insensitive?\n",
    "Ans - re. IGNORECASE : This flag allows for case-insensitive matching of the Regular Expression with the given string i.e. expressions like [A-Z] will match lowercase letters, too."
   ]
  },
  {
   "cell_type": "raw",
   "id": "6260225c",
   "metadata": {},
   "source": [
    "17. What does the . character normally match? What does it match if re.DOTALL is passed as 2nd argument in re.compile()?\n",
    "Ans - character normally matches any character except the newline character. If re. DOTALL is passed as the second argument to re. compile(), then the dot will also match newline characters."
   ]
  },
  {
   "cell_type": "raw",
   "id": "297e0ad0",
   "metadata": {},
   "source": [
    "18. If numReg = re.compile(r'\\d+'), what will numRegex.sub('X', '11 drummers, 10 pipers, five rings, 4 hen') return?\n",
    "Ans - X drummers, X pipers, five rings, X hens"
   ]
  },
  {
   "cell_type": "raw",
   "id": "900c3c0b",
   "metadata": {},
   "source": [
    "19. What does passing re.VERBOSE as the 2nd argument to re.compile() allow to do?\n",
    "Ans - To ignore whitespace and comments inside the regular expression string."
   ]
  },
  {
   "cell_type": "raw",
   "id": "fccc7788",
   "metadata": {},
   "source": [
    "20. How would you write a regex that match a number with comma for every three digits? It must match the given following:\n",
    "'42'\n",
    "'1,234'\n",
    "'6,368,745'\n",
    "but not the following:\n",
    "'12,34,567' (which has only two digits between the commas)\n",
    "'1234' (which lacks commas)\n",
    "\n",
    "Ans - numCommas = re.compile(r'(^\\d{1,3})(,\\d{3})*$') numCommas.search('12,34,567').group()"
   ]
  },
  {
   "cell_type": "raw",
   "id": "21a4ec12",
   "metadata": {},
   "source": [
    "21. How would you write a regex that matches the full name of someone whose last name is Watanabe? You can assume that the first name that comes before it will always be one word that begins with a capital letter. The regex must match the following:\n",
    "'Haruto Watanabe'\n",
    "'Alice Watanabe'\n",
    "'RoboCop Watanabe'\n",
    "but not the following:\n",
    "'haruto Watanabe' (where the first name is not capitalized)\n",
    "'Mr. Watanabe' (where the preceding word has a nonletter character)\n",
    "'Watanabe' (which has no first name)\n",
    "'Haruto watanabe' (where Watanabe is not capitalized)\n",
    "\n",
    "Ans - fullName = re.compile(r'[A-Z]\\w [A-Z]\\w') mo = fullName.findall('Haruto Watanabe, haruto Watanabe, Alice Watanabe, Watanabe, Haruto watanabe, Robocop Watanabe') mo.group()"
   ]
  },
  {
   "cell_type": "raw",
   "id": "1bc7c792",
   "metadata": {},
   "source": [
    "22. How would you write a regex that matches a sentence where the first word is either Alice, Bob, or Carol; the second word is either eats, pets, or throws; the third word is apples, cats, or baseballs; and the sentence ends with a period? This regex should be case-insensitive. It must match the following:\n",
    "'Alice eats apples.'\n",
    "'Bob pets cats.'\n",
    "'Carol throws baseballs.'\n",
    "'Alice throws Apples.'\n",
    "'BOB EATS CATS.'\n",
    "but not the following:\n",
    "'RoboCop eats apples.'\n",
    "'ALICE THROWS FOOTBALLS.'\n",
    "'Carol eats 7 cats.'\n",
    "\n",
    "\n",
    "Ans - senRegex = re.compile(r'(Alice|Bob|Carol)\\s(eats|pets|throws)\\s(apples|cats|baseballs).', re.I|re.DOTALL)\n",
    "\n",
    "senRegex.findall('''Alice eats apples.'\n",
    "\n",
    "'Bob pets cats.'\n",
    "\n",
    "'Carol throws baseballs.'\n",
    "\n",
    "'Alice throws Apples.'\n",
    "\n",
    "'BOB EATS CATS.'\n",
    "\n",
    "but not the following:\n",
    "\n",
    "'Robocop eats apples.'\n",
    "\n",
    "'ALICE THROWS FOOTBALLS.'\n",
    "\n",
    "'Carol eats 7 cats.''')\n",
    "\n",
    "Test result: [('Alice', 'eats', 'apples'), ('Bob', 'pets', 'cats'), ('Carol', 'throws', 'baseballs'), ('Alice', 'throws', 'Apples'), ('BOB', 'EATS', 'CATS')]"
   ]
  }
 ],
 "metadata": {
  "kernelspec": {
   "display_name": "Python 3 (ipykernel)",
   "language": "python",
   "name": "python3"
  },
  "language_info": {
   "codemirror_mode": {
    "name": "ipython",
    "version": 3
   },
   "file_extension": ".py",
   "mimetype": "text/x-python",
   "name": "python",
   "nbconvert_exporter": "python",
   "pygments_lexer": "ipython3",
   "version": "3.9.7"
  }
 },
 "nbformat": 4,
 "nbformat_minor": 5
}
